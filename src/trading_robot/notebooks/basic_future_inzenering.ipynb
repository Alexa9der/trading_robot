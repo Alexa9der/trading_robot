{
 "cells": [
  {
   "cell_type": "code",
   "execution_count": 30,
   "metadata": {},
   "outputs": [],
   "source": [
    "import sys\n",
    "import os\n",
    "\n",
    "project_root = os.path.abspath(os.path.join(os.getcwd(), '..'))\n",
    "if project_root not in sys.path:\n",
    "    sys.path.append(project_root)\n",
    "\n",
    "from connectors.data_collector import DataCollector, mt5\n",
    "\n",
    "import pandas as pd \n",
    "import numpy as np\n",
    "\n",
    "from IPython.display import display \n"
   ]
  },
  {
   "cell_type": "code",
   "execution_count": 32,
   "metadata": {},
   "outputs": [
    {
     "data": {
      "text/html": [
       "<div>\n",
       "<style scoped>\n",
       "    .dataframe tbody tr th:only-of-type {\n",
       "        vertical-align: middle;\n",
       "    }\n",
       "\n",
       "    .dataframe tbody tr th {\n",
       "        vertical-align: top;\n",
       "    }\n",
       "\n",
       "    .dataframe thead th {\n",
       "        text-align: right;\n",
       "    }\n",
       "</style>\n",
       "<table border=\"1\" class=\"dataframe\">\n",
       "  <thead>\n",
       "    <tr style=\"text-align: right;\">\n",
       "      <th></th>\n",
       "      <th>Date</th>\n",
       "      <th>Open</th>\n",
       "      <th>Close</th>\n",
       "      <th>High</th>\n",
       "      <th>Low</th>\n",
       "      <th>Volume</th>\n",
       "    </tr>\n",
       "  </thead>\n",
       "  <tbody>\n",
       "    <tr>\n",
       "      <th>0</th>\n",
       "      <td>2024-03-05 03:45:00</td>\n",
       "      <td>1.08513</td>\n",
       "      <td>1.08491</td>\n",
       "      <td>1.08513</td>\n",
       "      <td>1.08484</td>\n",
       "      <td>266</td>\n",
       "    </tr>\n",
       "    <tr>\n",
       "      <th>1</th>\n",
       "      <td>2024-03-05 03:50:00</td>\n",
       "      <td>1.08489</td>\n",
       "      <td>1.08488</td>\n",
       "      <td>1.08491</td>\n",
       "      <td>1.08472</td>\n",
       "      <td>236</td>\n",
       "    </tr>\n",
       "    <tr>\n",
       "      <th>2</th>\n",
       "      <td>2024-03-05 03:55:00</td>\n",
       "      <td>1.08489</td>\n",
       "      <td>1.08493</td>\n",
       "      <td>1.08501</td>\n",
       "      <td>1.08484</td>\n",
       "      <td>196</td>\n",
       "    </tr>\n",
       "    <tr>\n",
       "      <th>3</th>\n",
       "      <td>2024-03-05 04:00:00</td>\n",
       "      <td>1.08493</td>\n",
       "      <td>1.08496</td>\n",
       "      <td>1.08502</td>\n",
       "      <td>1.08484</td>\n",
       "      <td>366</td>\n",
       "    </tr>\n",
       "    <tr>\n",
       "      <th>4</th>\n",
       "      <td>2024-03-05 04:05:00</td>\n",
       "      <td>1.08495</td>\n",
       "      <td>1.08510</td>\n",
       "      <td>1.08512</td>\n",
       "      <td>1.08493</td>\n",
       "      <td>564</td>\n",
       "    </tr>\n",
       "  </tbody>\n",
       "</table>\n",
       "</div>"
      ],
      "text/plain": [
       "                 Date     Open    Close     High      Low  Volume\n",
       "0 2024-03-05 03:45:00  1.08513  1.08491  1.08513  1.08484     266\n",
       "1 2024-03-05 03:50:00  1.08489  1.08488  1.08491  1.08472     236\n",
       "2 2024-03-05 03:55:00  1.08489  1.08493  1.08501  1.08484     196\n",
       "3 2024-03-05 04:00:00  1.08493  1.08496  1.08502  1.08484     366\n",
       "4 2024-03-05 04:05:00  1.08495  1.08510  1.08512  1.08493     564"
      ]
     },
     "execution_count": 32,
     "metadata": {},
     "output_type": "execute_result"
    }
   ],
   "source": [
    "data_col = DataCollector()\n",
    "data = data_col.get_historical_data(symbol=\"EURUSD\", timeframe= mt5.TIMEFRAME_M5 )\n",
    "data.head() "
   ]
  },
  {
   "cell_type": "code",
   "execution_count": 36,
   "metadata": {},
   "outputs": [],
   "source": [
    "def create_lag_features(data:pd.DataFrame, start:int=1, end:int|None=None, column:str=\"Close\"):\n",
    "    \"\"\"\n",
    "    Creates lagged features for the specified column of the time series.\n",
    "\n",
    "    Parameters:\n",
    "    data (pd.DataFrame): The original DataFrame containing the time series.\n",
    "    start (int): The starting lag (default 1).\n",
    "    end (int | None): The ending lag. If None, calculated as half the square root of the series length.\n",
    "    column (str): The name of the column for which to create lagged features (default \"Close\").\n",
    "\n",
    "    Returns:\n",
    "    pd.DataFrame: The DataFrame with the lagged features added.\n",
    "    \"\"\"\n",
    "\n",
    "    df = data.copy()\n",
    "\n",
    "    if end is None:\n",
    "        n = len(data)\n",
    "        end = int((n / np.sqrt(n)) / 2)\n",
    "\n",
    "    for lag in range(start, end ):\n",
    "        df[f'lag_{lag}'] = df[column].shift(lag)\n",
    "\n",
    "    return df.dropna()\n",
    "\n",
    "\n",
    "# lag_data = create_lag_features(data)\n",
    "# lag_data.head()"
   ]
  },
  {
   "cell_type": "code",
   "execution_count": 37,
   "metadata": {},
   "outputs": [
    {
     "data": {
      "text/plain": [
       "<connectors.data_collector.DataCollector at 0x7f85fae75cc0>"
      ]
     },
     "execution_count": 37,
     "metadata": {},
     "output_type": "execute_result"
    }
   ],
   "source": [
    "data_col"
   ]
  },
  {
   "cell_type": "code",
   "execution_count": null,
   "metadata": {},
   "outputs": [],
   "source": []
  },
  {
   "cell_type": "code",
   "execution_count": 6,
   "metadata": {},
   "outputs": [],
   "source": []
  },
  {
   "cell_type": "code",
   "execution_count": null,
   "metadata": {},
   "outputs": [],
   "source": []
  },
  {
   "cell_type": "code",
   "execution_count": null,
   "metadata": {},
   "outputs": [],
   "source": []
  },
  {
   "cell_type": "code",
   "execution_count": null,
   "metadata": {},
   "outputs": [],
   "source": []
  }
 ],
 "metadata": {
  "kernelspec": {
   "display_name": "tr_env",
   "language": "python",
   "name": "python3"
  },
  "language_info": {
   "codemirror_mode": {
    "name": "ipython",
    "version": 3
   },
   "file_extension": ".py",
   "mimetype": "text/x-python",
   "name": "python",
   "nbconvert_exporter": "python",
   "pygments_lexer": "ipython3",
   "version": "3.10.14"
  }
 },
 "nbformat": 4,
 "nbformat_minor": 2
}
