{
 "cells": [
  {
   "cell_type": "code",
   "execution_count": 31,
   "metadata": {},
   "outputs": [],
   "source": [
    "import sys\n",
    "import os\n",
    "\n",
    "import pandas as pd \n",
    "import numpy as np\n",
    "\n",
    "project_root = os.path.abspath(os.path.join(os.getcwd(), '..'))\n",
    "if project_root not in sys.path:\n",
    "    sys.path.append(project_root)\n",
    "\n",
    "from data_collection.data_collector import DataCollector"
   ]
  },
  {
   "cell_type": "code",
   "execution_count": 11,
   "metadata": {},
   "outputs": [
    {
     "data": {
      "text/html": [
       "<div>\n",
       "<style scoped>\n",
       "    .dataframe tbody tr th:only-of-type {\n",
       "        vertical-align: middle;\n",
       "    }\n",
       "\n",
       "    .dataframe tbody tr th {\n",
       "        vertical-align: top;\n",
       "    }\n",
       "\n",
       "    .dataframe thead th {\n",
       "        text-align: right;\n",
       "    }\n",
       "</style>\n",
       "<table border=\"1\" class=\"dataframe\">\n",
       "  <thead>\n",
       "    <tr style=\"text-align: right;\">\n",
       "      <th></th>\n",
       "      <th>Open</th>\n",
       "      <th>Close</th>\n",
       "      <th>High</th>\n",
       "      <th>Low</th>\n",
       "      <th>Volume</th>\n",
       "    </tr>\n",
       "    <tr>\n",
       "      <th>Date</th>\n",
       "      <th></th>\n",
       "      <th></th>\n",
       "      <th></th>\n",
       "      <th></th>\n",
       "      <th></th>\n",
       "    </tr>\n",
       "  </thead>\n",
       "  <tbody>\n",
       "    <tr>\n",
       "      <th>1971-01-04</th>\n",
       "      <td>0.5369</td>\n",
       "      <td>0.5369</td>\n",
       "      <td>0.5369</td>\n",
       "      <td>0.5369</td>\n",
       "      <td>1</td>\n",
       "    </tr>\n",
       "    <tr>\n",
       "      <th>1971-01-05</th>\n",
       "      <td>0.5366</td>\n",
       "      <td>0.5366</td>\n",
       "      <td>0.5366</td>\n",
       "      <td>0.5366</td>\n",
       "      <td>1</td>\n",
       "    </tr>\n",
       "    <tr>\n",
       "      <th>1971-01-06</th>\n",
       "      <td>0.5365</td>\n",
       "      <td>0.5365</td>\n",
       "      <td>0.5365</td>\n",
       "      <td>0.5365</td>\n",
       "      <td>1</td>\n",
       "    </tr>\n",
       "    <tr>\n",
       "      <th>1971-01-07</th>\n",
       "      <td>0.5368</td>\n",
       "      <td>0.5368</td>\n",
       "      <td>0.5368</td>\n",
       "      <td>0.5368</td>\n",
       "      <td>1</td>\n",
       "    </tr>\n",
       "    <tr>\n",
       "      <th>1971-01-08</th>\n",
       "      <td>0.5371</td>\n",
       "      <td>0.5371</td>\n",
       "      <td>0.5371</td>\n",
       "      <td>0.5371</td>\n",
       "      <td>1</td>\n",
       "    </tr>\n",
       "  </tbody>\n",
       "</table>\n",
       "</div>"
      ],
      "text/plain": [
       "              Open   Close    High     Low  Volume\n",
       "Date                                              \n",
       "1971-01-04  0.5369  0.5369  0.5369  0.5369       1\n",
       "1971-01-05  0.5366  0.5366  0.5366  0.5366       1\n",
       "1971-01-06  0.5365  0.5365  0.5365  0.5365       1\n",
       "1971-01-07  0.5368  0.5368  0.5368  0.5368       1\n",
       "1971-01-08  0.5371  0.5371  0.5371  0.5371       1"
      ]
     },
     "execution_count": 11,
     "metadata": {},
     "output_type": "execute_result"
    }
   ],
   "source": [
    "data_col = DataCollector()\n",
    "data = data_col.get_historical_data(symbol=\"EURUSD\")\n",
    "data.head() "
   ]
  },
  {
   "cell_type": "code",
   "execution_count": 44,
   "metadata": {},
   "outputs": [],
   "source": [
    "split = int((1 - 0.2) * len(data))\n",
    "        \n",
    "X = data.drop(columns=[\"Close\"])\n",
    "y = data[\"Close\"]\n",
    "\n",
    "# Разделение данных\n",
    "X_train, X_test = X[:split], X[split:]\n",
    "y_train, y_test = y[:split], y[split:]"
   ]
  },
  {
   "cell_type": "code",
   "execution_count": 61,
   "metadata": {},
   "outputs": [
    {
     "name": "stdout",
     "output_type": "stream",
     "text": [
      "(13785, 32, 4)\n",
      "(13785,)\n"
     ]
    }
   ],
   "source": [
    "def create_sequences(data: pd.DataFrame, y_col: str = \"Close\", sequence_length: int = 32):\n",
    "\n",
    "    sequences = []\n",
    "    labels = []\n",
    "\n",
    "    X = data.drop(columns=[y_col]).values\n",
    "    y = data[y_col].values\n",
    "\n",
    "    for i in range(len(data) - sequence_length):\n",
    "        sequences.append(X[i:i + sequence_length])\n",
    "        labels.append(y[i + sequence_length])\n",
    "    \n",
    "    return np.array(sequences), np.array(labels)\n",
    "\n",
    "sequences, labels = create_sequences(data)\n",
    "\n",
    "print(sequences.shape)\n",
    "print(labels.shape)\n"
   ]
  },
  {
   "cell_type": "code",
   "execution_count": null,
   "metadata": {},
   "outputs": [],
   "source": []
  },
  {
   "cell_type": "code",
   "execution_count": null,
   "metadata": {},
   "outputs": [],
   "source": []
  },
  {
   "cell_type": "markdown",
   "metadata": {},
   "source": [
    "# Building a class"
   ]
  },
  {
   "cell_type": "code",
   "execution_count": 40,
   "metadata": {},
   "outputs": [],
   "source": [
    "class TimeSeriesSplits:\n",
    "    \"\"\"\n",
    "    Class for preparing data and dividing it into training and test samples.\n",
    "\n",
    "    Methods:\n",
    "    Train_test_split (x, y, test_size):\n",
    "    Divides data into training and test samples.\n",
    "    Create_sequences (Data, Sequence_LENGTH):\n",
    "    Creates data sequences and appropriate tags for prediction tasks.\n",
    "    \"\"\"\n",
    "       \n",
    "    def train_test_split(self, data: pd.DataFrame, y_col: str, test_size: float = 0.2):\n",
    "        \"\"\"\n",
    "        Separates data into training and test samples, maintaining a temporary sequence.\n",
    "\n",
    "        Options:\n",
    "        Data: PD.Dataframe - data containing signs and target variable.\n",
    "        y_col: str - the name of the column with the target variable.\n",
    "        Test_Size: Float - the share of data that will be used for test sample (default 0.2).\n",
    "\n",
    "        Returns:\n",
    "        X_train, y_train, X_test, y_test - divided data.\n",
    "        \"\"\"\n",
    "        # Определяем точку разделения данных на обучающие и тестовые\n",
    "        split = int((1 - test_size) * len(data))\n",
    "        \n",
    "        X = data.drop(columns=[y_col])\n",
    "        y = data[y_col]\n",
    "        \n",
    "        # Разделение данных\n",
    "        X_train, X_test = X[:split], X[split:]\n",
    "        y_train, y_test = y[:split], y[split:]\n",
    "\n",
    "        return X_train, y_train, X_test, y_test\n",
    "\n",
    "    def create_sequences(self, data, y_col: str = \"Close\", sequence_length: int = 32):\n",
    "            \"\"\"\n",
    "            Creates data sequences and tags from Dataframe.\n",
    "\n",
    "            Options:\n",
    "            - Data: Pd.Dataframe - data containing signs and target variable.\n",
    "            - y_col: str - the name of the column with the target variable.\n",
    "            - Sequence_LENGTH: int - the length of the sequence.\n",
    "\n",
    "            Returns:\n",
    "            - sequences: np.array - an array of sequences of signs.\n",
    "            - Labels: NP.array - an array of marks.\n",
    "            \"\"\"\n",
    "            sequences = []\n",
    "            labels = []\n",
    "\n",
    "            X = data.drop(columns=[y_col]).values\n",
    "            y = data[y_col].values\n",
    "\n",
    "            for i in range(len(data) - sequence_length):\n",
    "                sequences.append(X[i:i + sequence_length])\n",
    "                labels.append(y[i + sequence_length])\n",
    "            \n",
    "            return np.array(sequences), np.array(labels)\n",
    "\n",
    "    \n",
    "\n"
   ]
  },
  {
   "cell_type": "code",
   "execution_count": null,
   "metadata": {},
   "outputs": [],
   "source": []
  },
  {
   "cell_type": "code",
   "execution_count": null,
   "metadata": {},
   "outputs": [],
   "source": []
  },
  {
   "cell_type": "code",
   "execution_count": null,
   "metadata": {},
   "outputs": [],
   "source": []
  },
  {
   "cell_type": "code",
   "execution_count": null,
   "metadata": {},
   "outputs": [],
   "source": []
  },
  {
   "cell_type": "code",
   "execution_count": null,
   "metadata": {},
   "outputs": [],
   "source": []
  },
  {
   "cell_type": "code",
   "execution_count": null,
   "metadata": {},
   "outputs": [],
   "source": []
  },
  {
   "cell_type": "code",
   "execution_count": null,
   "metadata": {},
   "outputs": [],
   "source": []
  },
  {
   "cell_type": "code",
   "execution_count": null,
   "metadata": {},
   "outputs": [],
   "source": []
  },
  {
   "cell_type": "code",
   "execution_count": null,
   "metadata": {},
   "outputs": [],
   "source": []
  },
  {
   "cell_type": "code",
   "execution_count": null,
   "metadata": {},
   "outputs": [],
   "source": []
  },
  {
   "cell_type": "code",
   "execution_count": null,
   "metadata": {},
   "outputs": [],
   "source": []
  }
 ],
 "metadata": {
  "kernelspec": {
   "display_name": "tr_env",
   "language": "python",
   "name": "python3"
  },
  "language_info": {
   "codemirror_mode": {
    "name": "ipython",
    "version": 3
   },
   "file_extension": ".py",
   "mimetype": "text/x-python",
   "name": "python",
   "nbconvert_exporter": "python",
   "pygments_lexer": "ipython3",
   "version": "3.10.14"
  }
 },
 "nbformat": 4,
 "nbformat_minor": 2
}
