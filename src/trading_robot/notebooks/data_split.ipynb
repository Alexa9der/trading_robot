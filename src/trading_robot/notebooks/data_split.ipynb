{
 "cells": [
  {
   "cell_type": "code",
   "execution_count": null,
   "metadata": {},
   "outputs": [],
   "source": [
    "import sys\n",
    "import os\n",
    "\n",
    "project_root = os.path.abspath(os.path.join(os.getcwd(), '..'))\n",
    "if project_root not in sys.path:\n",
    "    sys.path.append(project_root)\n",
    "\n",
    "from connectors.data_collector import DataCollector, mt5\n",
    "\n",
    "import pandas as pd \n",
    "import numpy as np\n",
    "\n",
    "from IPython.display import display "
   ]
  },
  {
   "cell_type": "code",
   "execution_count": null,
   "metadata": {},
   "outputs": [],
   "source": [
    "data_col = DataCollector()\n",
    "data = data_col.get_historical_data(symbol=\"EURUSD\")\n",
    "data.head() "
   ]
  },
  {
   "cell_type": "code",
   "execution_count": null,
   "metadata": {},
   "outputs": [],
   "source": [
    "from sklearn.model_selection import TimeSeriesSplit\n",
    "\n",
    "# Создаем временной ряд из 1000 наблюдений\n",
    "data = np.arange(1000).reshape(-1, 1)\n",
    "labels = np.random.randint(2, size=1000)\n",
    "\n",
    "tscv = TimeSeriesSplit(n_splits=5)\n",
    "\n",
    "for train_index, test_index in tscv.split(data):\n",
    "    train_data, test_data = data[train_index], data[test_index]\n",
    "    train_labels, test_labels = labels[train_index], labels[test_index]\n",
    "    print(f'Обучающая выборка: {train_data.shape[0]}, Тестовая выборка: {test_data.shape[0]}')\n"
   ]
  },
  {
   "cell_type": "code",
   "execution_count": null,
   "metadata": {},
   "outputs": [],
   "source": [
    "def sliding_window(data, window_size, step_size):\n",
    "    for start in range(0, len(data) - window_size, step_size):\n",
    "        end = start + window_size\n",
    "        yield data[start:end]\n",
    "\n",
    "# Пример использования скользящего окна\n",
    "data = np.arange(1000)\n",
    "window_size = 100\n",
    "step_size = 10\n",
    "\n",
    "for window in sliding_window(data, window_size, step_size):\n",
    "    train_data = window[:int(0.8 * window_size)]\n",
    "    test_data = window[int(0.8 * window_size):]\n",
    "    print(f'Обучающая выборка: {train_data.shape[0]}, Тестовая выборка: {test_data.shape[0]}')\n"
   ]
  }
 ],
 "metadata": {
  "language_info": {
   "name": "python"
  }
 },
 "nbformat": 4,
 "nbformat_minor": 2
}
